{
 "cells": [
  {
   "cell_type": "code",
   "execution_count": 12,
   "metadata": {},
   "outputs": [],
   "source": [
    "#!/usr/bin/python\n",
    "#\n",
    "#\tProduces a Trajectory Scan File for Beamlines 6.3.1 and 4.0.2 at the ALS\n",
    "#\t\n",
    "#\t2022/07/25 atndiaye@lbl.gov , damian.guenzing@uni-due.de\n",
    "#\n",
    "#\t\n",
    "#\n",
    "\n",
    "from xaspy.beamlines.bl631 import make_scanfile, XMCD_scanpair\n",
    "            \n",
    "### good values for common edges:\n",
    "\n",
    "Fe_L_edge = [695,735]\n",
    "Co_L_edge = [765,815]\n",
    "\n",
    "### \n",
    "\n",
    "mesh_fields\t= [ \n",
    "\t\t\t\t{\"Header\":\"Temperature B\\t\",  \"Values\":[200, 300, 400]},\n",
    "                {\"Header\": \"Z_samples\\t\",     \"Values\": np.arange(7.5, 12.1, 0.25)},\n",
    "\t\t\t\t{\"Header\": \"Magnet Field\\t\",  \"Values\": XMCD_scanpair(0.5, Co_L_edge, 0.1, 1, 4)}\n",
    "\t\t\t]\n",
    "\n",
    "#outfilename = \"X:/Ollefs/2017-12-09-FeRh/Scanfiles/FeXMCD-grid_285K.scn\" \n",
    "outfilename = \"test.scn\" \n",
    "make_scanfile(mesh_fields, outfilename)\n",
    "\n",
    "\n",
    "    \n"
   ]
  },
  {
   "cell_type": "code",
   "execution_count": null,
   "metadata": {},
   "outputs": [],
   "source": []
  },
  {
   "cell_type": "code",
   "execution_count": 10,
   "metadata": {
    "ExecuteTime": {
     "end_time": "2022-07-26T00:25:54.538252Z",
     "start_time": "2022-07-26T00:25:54.518138Z"
    }
   },
   "outputs": [],
   "source": []
  },
  {
   "cell_type": "code",
   "execution_count": null,
   "metadata": {},
   "outputs": [],
   "source": []
  }
 ],
 "metadata": {
  "kernelspec": {
   "display_name": "Python 3",
   "language": "python",
   "name": "python3"
  },
  "language_info": {
   "codemirror_mode": {
    "name": "ipython",
    "version": 3
   },
   "file_extension": ".py",
   "mimetype": "text/x-python",
   "name": "python",
   "nbconvert_exporter": "python",
   "pygments_lexer": "ipython3",
   "version": "3.7.9"
  },
  "toc": {
   "base_numbering": 1,
   "nav_menu": {},
   "number_sections": true,
   "sideBar": true,
   "skip_h1_title": false,
   "title_cell": "Table of Contents",
   "title_sidebar": "Contents",
   "toc_cell": false,
   "toc_position": {},
   "toc_section_display": true,
   "toc_window_display": false
  },
  "varInspector": {
   "cols": {
    "lenName": 16,
    "lenType": 16,
    "lenVar": 40
   },
   "kernels_config": {
    "python": {
     "delete_cmd_postfix": "",
     "delete_cmd_prefix": "del ",
     "library": "var_list.py",
     "varRefreshCmd": "print(var_dic_list())"
    },
    "r": {
     "delete_cmd_postfix": ") ",
     "delete_cmd_prefix": "rm(",
     "library": "var_list.r",
     "varRefreshCmd": "cat(var_dic_list()) "
    }
   },
   "types_to_exclude": [
    "module",
    "function",
    "builtin_function_or_method",
    "instance",
    "_Feature"
   ],
   "window_display": false
  }
 },
 "nbformat": 4,
 "nbformat_minor": 2
}
